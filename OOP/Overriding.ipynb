{
 "cells": [
  {
   "cell_type": "markdown",
   "id": "0de2962e",
   "metadata": {},
   "source": [
    "---   \n",
    "---   \n",
    "\n",
    "<h1 align=\"center\">ExD</h1>\n",
    "<h1 align=\"center\">Course: Advanced Python Programming Language</h1>\n",
    "\n",
    "\n",
    "---\n",
    "<h3><div align=\"right\">Instructor: Kiran Khursheed</div></h3>    "
   ]
  },
  {
   "cell_type": "markdown",
   "id": "fbf93918",
   "metadata": {},
   "source": [
    "<h1 align=\"center\">Overriding </h1>"
   ]
  },
  {
   "cell_type": "markdown",
   "id": "3c196097",
   "metadata": {},
   "source": [
    "## What is Method Overriding??\n",
    "#### Method overriding is an ability of any object-oriented programming language that allows a subclass or child class to provide a specific implementation of a method that is already provided by one of its super-classes or parent classes. \n",
    "\n",
    "###### Imagine you borrow your dad’s car. Normally, the car works in a certain way. But you want to change something—maybe you want to add neon lights or play loud music when the car starts.\n",
    "   \n",
    "     Even though it’s still your dad’s car, you’re making your own version of it."
   ]
  },
  {
   "cell_type": "code",
   "execution_count": null,
   "id": "ffbe7c35",
   "metadata": {},
   "outputs": [],
   "source": []
  },
  {
   "cell_type": "markdown",
   "id": "fb44b89b",
   "metadata": {},
   "source": [
    "### Example: Family of Animals"
   ]
  },
  {
   "cell_type": "code",
   "execution_count": null,
   "id": "052f2a6f",
   "metadata": {},
   "outputs": [],
   "source": []
  },
  {
   "cell_type": "code",
   "execution_count": 11,
   "id": "0bb4c8c1",
   "metadata": {},
   "outputs": [],
   "source": [
    "class Parent:\n",
    "    def __init__(self):\n",
    "        self.public = \"I am public\"\n",
    "        self._protected = \"I am protected\"\n",
    "        self.__private = \"I am private\"\n",
    "\n",
    "    def show_private(self):\n",
    "        print(self.__private)\n"
   ]
  },
  {
   "cell_type": "code",
   "execution_count": 13,
   "id": "b9d750ec",
   "metadata": {},
   "outputs": [],
   "source": [
    "class Child(Parent):\n",
    "    def access_features(self):\n",
    "        print(self.public)        \n",
    "        print(self._protected)     \n",
    "        print(self.__private)    \n"
   ]
  },
  {
   "cell_type": "code",
   "execution_count": 18,
   "id": "c42b9460",
   "metadata": {},
   "outputs": [
    {
     "name": "stdout",
     "output_type": "stream",
     "text": [
      "I am public\n",
      "I am protected\n"
     ]
    },
    {
     "ename": "AttributeError",
     "evalue": "'Child' object has no attribute '_Child__private'",
     "output_type": "error",
     "traceback": [
      "\u001b[1;31m---------------------------------------------------------------------------\u001b[0m",
      "\u001b[1;31mAttributeError\u001b[0m                            Traceback (most recent call last)",
      "\u001b[1;32m~\\AppData\\Local\\Temp/ipykernel_29544/2614968011.py\u001b[0m in \u001b[0;36m<module>\u001b[1;34m\u001b[0m\n\u001b[1;32m----> 1\u001b[1;33m \u001b[0mChild\u001b[0m\u001b[1;33m(\u001b[0m\u001b[1;33m)\u001b[0m\u001b[1;33m.\u001b[0m\u001b[0maccess_features\u001b[0m\u001b[1;33m(\u001b[0m\u001b[1;33m)\u001b[0m\u001b[1;33m\u001b[0m\u001b[1;33m\u001b[0m\u001b[0m\n\u001b[0m",
      "\u001b[1;32m~\\AppData\\Local\\Temp/ipykernel_29544/3023263633.py\u001b[0m in \u001b[0;36maccess_features\u001b[1;34m(self)\u001b[0m\n\u001b[0;32m      3\u001b[0m         \u001b[0mprint\u001b[0m\u001b[1;33m(\u001b[0m\u001b[0mself\u001b[0m\u001b[1;33m.\u001b[0m\u001b[0mpublic\u001b[0m\u001b[1;33m)\u001b[0m         \u001b[1;31m# ✅ Can access public\u001b[0m\u001b[1;33m\u001b[0m\u001b[1;33m\u001b[0m\u001b[0m\n\u001b[0;32m      4\u001b[0m         \u001b[0mprint\u001b[0m\u001b[1;33m(\u001b[0m\u001b[0mself\u001b[0m\u001b[1;33m.\u001b[0m\u001b[0m_protected\u001b[0m\u001b[1;33m)\u001b[0m     \u001b[1;31m# ✅ Can access protected (by convention, should not)\u001b[0m\u001b[1;33m\u001b[0m\u001b[1;33m\u001b[0m\u001b[0m\n\u001b[1;32m----> 5\u001b[1;33m         \u001b[0mprint\u001b[0m\u001b[1;33m(\u001b[0m\u001b[0mself\u001b[0m\u001b[1;33m.\u001b[0m\u001b[0m__private\u001b[0m\u001b[1;33m)\u001b[0m    \u001b[1;31m# ❌ Will give an error!\u001b[0m\u001b[1;33m\u001b[0m\u001b[1;33m\u001b[0m\u001b[0m\n\u001b[0m",
      "\u001b[1;31mAttributeError\u001b[0m: 'Child' object has no attribute '_Child__private'"
     ]
    }
   ],
   "source": [
    "Child().access_features()"
   ]
  },
  {
   "cell_type": "code",
   "execution_count": null,
   "id": "179522bd",
   "metadata": {},
   "outputs": [],
   "source": []
  },
  {
   "cell_type": "code",
   "execution_count": 5,
   "id": "bbef5e92",
   "metadata": {},
   "outputs": [],
   "source": [
    "class Animal:\n",
    "    def move(self):\n",
    "        print(\"Animals move.\")\n",
    "    def eat(self):\n",
    "        print(\"Animals eat.\")\n"
   ]
  },
  {
   "cell_type": "code",
   "execution_count": 6,
   "id": "5b95e9d0",
   "metadata": {},
   "outputs": [],
   "source": [
    "class Dog(Animal):\n",
    "    def move(self):\n",
    "        print(\"Dog moves\")\n"
   ]
  },
  {
   "cell_type": "markdown",
   "id": "6a92b077",
   "metadata": {},
   "source": [
    "<img align=\"center\" width=\"600\" height=\"600\"  src=\"images/overiding.png\" > "
   ]
  },
  {
   "cell_type": "code",
   "execution_count": 7,
   "id": "bdb8c9d5",
   "metadata": {},
   "outputs": [
    {
     "name": "stdout",
     "output_type": "stream",
     "text": [
      "Animals move.\n",
      "Dog moves\n"
     ]
    }
   ],
   "source": [
    "animal = Animal()\n",
    "animal.move()   # This prints: Some generic animal movement.\n",
    "\n",
    "dog = Dog()\n",
    "dog.move()      \n"
   ]
  },
  {
   "cell_type": "markdown",
   "id": "9618d021",
   "metadata": {},
   "source": [
    "### Drawing\n",
    "\n",
    "Let’s say we have a Shape class:"
   ]
  },
  {
   "cell_type": "code",
   "execution_count": 8,
   "id": "42469fed",
   "metadata": {},
   "outputs": [],
   "source": [
    "class Shape:\n",
    "    def draw(self):\n",
    "        print(\"Drawing a shape.\")\n"
   ]
  },
  {
   "cell_type": "code",
   "execution_count": 9,
   "id": "17368eb7",
   "metadata": {},
   "outputs": [],
   "source": [
    "class Circle(Shape):\n",
    "    def draw(self):\n",
    "        print(\"Drawing a circle.\")\n"
   ]
  },
  {
   "cell_type": "code",
   "execution_count": 10,
   "id": "dd04eb86",
   "metadata": {},
   "outputs": [
    {
     "name": "stdout",
     "output_type": "stream",
     "text": [
      "Drawing a shape.\n",
      "Drawing a circle.\n"
     ]
    }
   ],
   "source": [
    "shape1 = Shape()\n",
    "shape1.draw()   # Drawing a shape.\n",
    "\n",
    "circle1 = Circle()\n",
    "circle1.draw()  # Drawing a circle.\n"
   ]
  },
  {
   "cell_type": "markdown",
   "id": "fd949469",
   "metadata": {},
   "source": [
    "### Why Use Overriding?\n",
    "\n",
    "   - You can customize behavior in child classes.\n",
    "   - You can build specialized classes without starting from scratch.\n",
    "   - You follow the DRY rule (Don’t Repeat Yourself) by reusing code."
   ]
  },
  {
   "cell_type": "code",
   "execution_count": null,
   "id": "96a991af",
   "metadata": {},
   "outputs": [],
   "source": []
  },
  {
   "cell_type": "code",
   "execution_count": 2,
   "id": "c42285b9",
   "metadata": {},
   "outputs": [
    {
     "name": "stdout",
     "output_type": "stream",
     "text": [
      "Inside Parent\n",
      "Inside Child\n"
     ]
    }
   ],
   "source": [
    "# Defining parent class \n",
    "class Parent(): \n",
    "    \n",
    "    # Constructor \n",
    "    def __init__(self): \n",
    "        self.value = \"Inside Parent\"\n",
    "        \n",
    "    # Parent's show method \n",
    "    def show(self): \n",
    "        print(self.value) \n",
    "        \n",
    "# Defining child class \n",
    "class Child(Parent): \n",
    "    \n",
    "    # Constructor \n",
    "    def __init__(self): \n",
    "        super().__init__()  # Call parent constructor\n",
    "        self.value = \"Inside Child\"\n",
    "        \n",
    "    # Child's show method \n",
    "    def show(self): \n",
    "        print(self.value) \n",
    "        \n",
    "# Driver's code \n",
    "obj1 = Parent() \n",
    "obj2 = Child() \n",
    "\n",
    "obj1.show()  # Should print \"Inside Parent\"\n",
    "obj2.show()  # Should print \"Inside Child\""
   ]
  },
  {
   "cell_type": "code",
   "execution_count": null,
   "id": "6843c523",
   "metadata": {},
   "outputs": [],
   "source": []
  },
  {
   "cell_type": "code",
   "execution_count": null,
   "id": "60319288",
   "metadata": {},
   "outputs": [],
   "source": []
  },
  {
   "cell_type": "code",
   "execution_count": null,
   "id": "ff38d793",
   "metadata": {},
   "outputs": [],
   "source": []
  },
  {
   "cell_type": "code",
   "execution_count": null,
   "id": "c1a4d629",
   "metadata": {},
   "outputs": [],
   "source": []
  },
  {
   "cell_type": "code",
   "execution_count": null,
   "id": "db973b43",
   "metadata": {},
   "outputs": [],
   "source": []
  },
  {
   "cell_type": "code",
   "execution_count": null,
   "id": "577bd037",
   "metadata": {},
   "outputs": [],
   "source": []
  },
  {
   "cell_type": "markdown",
   "id": "2e1b2cee",
   "metadata": {},
   "source": []
  },
  {
   "cell_type": "code",
   "execution_count": null,
   "id": "393ea97c",
   "metadata": {},
   "outputs": [],
   "source": []
  },
  {
   "cell_type": "markdown",
   "id": "54a1e544",
   "metadata": {},
   "source": [
    "##### Let’s say we have a Parent class called Animal"
   ]
  },
  {
   "cell_type": "code",
   "execution_count": 10,
   "id": "cc8db4cb",
   "metadata": {},
   "outputs": [],
   "source": [
    "class Animal:\n",
    "    def speak(self):\n",
    "        print(\"I can make a sound!\")\n"
   ]
  },
  {
   "cell_type": "markdown",
   "id": "a642b7ce",
   "metadata": {},
   "source": [
    "##### Now, we want to create a child class called Dog that is an animal but can also do more. So, we make it inherit from Animal"
   ]
  },
  {
   "cell_type": "code",
   "execution_count": 11,
   "id": "cb5a3799",
   "metadata": {},
   "outputs": [],
   "source": [
    "class Dog(Animal):\n",
    "    def bark(self):\n",
    "        print(\"Woof! Woof!\")\n"
   ]
  },
  {
   "cell_type": "code",
   "execution_count": null,
   "id": "f80937c2",
   "metadata": {},
   "outputs": [],
   "source": []
  },
  {
   "cell_type": "markdown",
   "id": "57077e62",
   "metadata": {},
   "source": [
    "#### What Happened?\n",
    "   - Dog inherited the speak method from Animal.\n",
    "\n",
    "   - Dog also has its own method bark."
   ]
  },
  {
   "cell_type": "code",
   "execution_count": 12,
   "id": "05c8c626",
   "metadata": {},
   "outputs": [
    {
     "name": "stdout",
     "output_type": "stream",
     "text": [
      "I can make a sound!\n",
      "Woof! Woof!\n"
     ]
    }
   ],
   "source": [
    "my_dog = Dog()\n",
    "my_dog.speak()  # Comes from Animal!\n",
    "my_dog.bark()   # Comes from Dog!\n"
   ]
  },
  {
   "cell_type": "markdown",
   "id": "b9f778a4",
   "metadata": {},
   "source": [
    "#### Family Tree Picture:\n",
    "\n",
    "  Animal (Parent)\n",
    "\n",
    "  └── Dog (Child)\n"
   ]
  },
  {
   "cell_type": "markdown",
   "id": "a686ef20",
   "metadata": {},
   "source": [
    "###### The child Dog inherits from the parent Animal."
   ]
  },
  {
   "cell_type": "markdown",
   "id": "f8cf6629",
   "metadata": {},
   "source": [
    "### Why is Inheritance Useful?\n",
    "\n",
    "   - It helps us reuse code!\n",
    "   - We don’t have to write the same code again.\n",
    "   - The child class gets all the goodies from the parent class (like getting your dad’s smile or your mom’s eyes in real life)."
   ]
  },
  {
   "cell_type": "markdown",
   "id": "4198e8d8",
   "metadata": {},
   "source": [
    "###  Create a Class: Employee\n",
    "\n",
    "Make an Employee class with:\n",
    "\n",
    "   - name\n",
    "\n",
    "   - salary\n",
    "\n",
    "   - a method show_salary() that prints the salary.\n",
    "\n",
    "##### Now, create a child class Manager that:\n",
    "\n",
    "   - Inherits from Employee\n",
    "\n",
    "   - Has an additional attribute department\n",
    "\n",
    "   - Has a method manage() that prints:\n",
    "      - I manage the < department > department.\n",
    "\n",
    "    "
   ]
  },
  {
   "cell_type": "code",
   "execution_count": 13,
   "id": "32c1856b",
   "metadata": {},
   "outputs": [],
   "source": [
    "class Employee:\n",
    "    def __init__(self, name, salary):\n",
    "        self.name = name\n",
    "        self.salary = salary\n",
    "    def show_salary(self):\n",
    "        print(f\"My salary is {self.salary}.\")"
   ]
  },
  {
   "cell_type": "code",
   "execution_count": 14,
   "id": "62ee873d",
   "metadata": {},
   "outputs": [],
   "source": [
    "class Manager(Employee):\n",
    "    def __init__(self, name, salary, department):\n",
    "        super().__init__(name, salary)  # Inherit name and salary from Employee\n",
    "        self.department = department\n",
    "\n",
    "    def manage(self):\n",
    "        print(f\"I manage the {self.department} department.\")\n"
   ]
  },
  {
   "cell_type": "code",
   "execution_count": 15,
   "id": "1074fd8a",
   "metadata": {},
   "outputs": [
    {
     "name": "stdout",
     "output_type": "stream",
     "text": [
      "My salary is 500.\n",
      "I manage the DA department.\n"
     ]
    }
   ],
   "source": [
    "# Create a Manager object\n",
    "manager1 = Manager(\"Kiran\", 500, \"DA\")\n",
    "\n",
    "# Use the methods\n",
    "manager1.show_salary()   # From Employee\n",
    "manager1.manage()        # From Manager\n"
   ]
  },
  {
   "cell_type": "code",
   "execution_count": null,
   "id": "1f266fdd",
   "metadata": {},
   "outputs": [],
   "source": []
  },
  {
   "cell_type": "code",
   "execution_count": null,
   "id": "2ac1864b",
   "metadata": {},
   "outputs": [],
   "source": []
  },
  {
   "cell_type": "code",
   "execution_count": 16,
   "id": "ee83a5d8",
   "metadata": {},
   "outputs": [],
   "source": [
    "class Vehicle:\n",
    "    def __init__(self, brand):\n",
    "        self.brand = brand\n",
    "\n",
    "    def start(self):\n",
    "        print(f\"{self.brand} is starting.\")\n",
    "\n",
    "class Car(Vehicle):\n",
    "    def drive(self):\n",
    "        print(f\"{self.brand} is driving on the road.\")\n",
    "\n",
    "class Bike(Vehicle):\n",
    "    def ride(self):\n",
    "        print(f\"{self.brand} is being ridden.\")\n"
   ]
  },
  {
   "cell_type": "code",
   "execution_count": 17,
   "id": "54edcdf7",
   "metadata": {},
   "outputs": [
    {
     "name": "stdout",
     "output_type": "stream",
     "text": [
      "Toyota is starting.\n",
      "Toyota is driving on the road.\n",
      "Yamaha is starting.\n",
      "Yamaha is being ridden.\n"
     ]
    }
   ],
   "source": [
    "my_car = Car(\"Toyota\")\n",
    "my_bike = Bike(\"Yamaha\")\n",
    "\n",
    "my_car.start()\n",
    "my_car.drive()\n",
    "\n",
    "my_bike.start()\n",
    "my_bike.ride()\n"
   ]
  },
  {
   "cell_type": "code",
   "execution_count": null,
   "id": "a48bb468",
   "metadata": {},
   "outputs": [],
   "source": []
  }
 ],
 "metadata": {
  "kernelspec": {
   "display_name": "Python 3 (ipykernel)",
   "language": "python",
   "name": "python3"
  },
  "language_info": {
   "codemirror_mode": {
    "name": "ipython",
    "version": 3
   },
   "file_extension": ".py",
   "mimetype": "text/x-python",
   "name": "python",
   "nbconvert_exporter": "python",
   "pygments_lexer": "ipython3",
   "version": "3.9.7"
  }
 },
 "nbformat": 4,
 "nbformat_minor": 5
}
