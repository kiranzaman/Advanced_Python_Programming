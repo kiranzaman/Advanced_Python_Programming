{
 "cells": [
  {
   "cell_type": "markdown",
   "id": "0283100d",
   "metadata": {},
   "source": [
    "---   \n",
    "---   \n",
    "\n",
    "<h1 align=\"center\">ExD</h1>\n",
    "<h1 align=\"center\">Course: Advanced Python Programming Language</h1>\n",
    "\n",
    "\n",
    "---\n",
    "<h3><div align=\"right\">Instructor: Kiran Khursheed</div></h3>    "
   ]
  },
  {
   "cell_type": "markdown",
   "id": "ae030872",
   "metadata": {},
   "source": [
    "<h1 align=\"center\">Comprehension Practice</h1>"
   ]
  },
  {
   "cell_type": "markdown",
   "id": "fd9d2e54",
   "metadata": {},
   "source": [
    "### 1. Create a list of squares\n",
    "- Create a list of squares\n",
    "- From 1 to 10, return a list of squares."
   ]
  },
  {
   "cell_type": "code",
   "execution_count": 1,
   "id": "7b05de29",
   "metadata": {},
   "outputs": [],
   "source": [
    "squares = [x**2 for x in range(1, 11)]"
   ]
  },
  {
   "cell_type": "markdown",
   "id": "a1e07cef",
   "metadata": {},
   "source": [
    "### 2. Extract first letters\n",
    "- Given [\"apple\", \"banana\", \"cherry\"], return [\"a\", \"b\", \"c\"].\n"
   ]
  },
  {
   "cell_type": "code",
   "execution_count": 13,
   "id": "99985bd2",
   "metadata": {},
   "outputs": [
    {
     "data": {
      "text/plain": [
       "['a', 'b', 'c']"
      ]
     },
     "execution_count": 13,
     "metadata": {},
     "output_type": "execute_result"
    }
   ],
   "source": [
    "list1 = [\"apple\", \"banana\", \"cherry\"]\n",
    "first_letters = [word[0] for word in list1]\n",
    "first_letters"
   ]
  },
  {
   "cell_type": "markdown",
   "id": "8bbef18e",
   "metadata": {},
   "source": [
    "### 3. Filter out odd numbers\n",
    "- From a list of numbers 1 to 20, keep only the even ones."
   ]
  },
  {
   "cell_type": "code",
   "execution_count": 5,
   "id": "fec25f48",
   "metadata": {},
   "outputs": [
    {
     "data": {
      "text/plain": [
       "[2, 4, 6, 8, 10, 12, 14, 16, 18, 20]"
      ]
     },
     "execution_count": 5,
     "metadata": {},
     "output_type": "execute_result"
    }
   ],
   "source": [
    "evens = [x for x in range(1, 21) if x % 2 == 0]\n",
    "evens "
   ]
  },
  {
   "cell_type": "markdown",
   "id": "649f82f5",
   "metadata": {},
   "source": [
    "### 4. Map numbers to their squares\n",
    "- From 1 to 5, create a dictionary like {1: 1, 2: 4, 3: 9, ...}"
   ]
  },
  {
   "cell_type": "code",
   "execution_count": 6,
   "id": "a51c684e",
   "metadata": {},
   "outputs": [
    {
     "data": {
      "text/plain": [
       "{1: 1, 2: 4, 3: 9, 4: 16, 5: 25}"
      ]
     },
     "execution_count": 6,
     "metadata": {},
     "output_type": "execute_result"
    }
   ],
   "source": [
    "square_dict = {x: x**2 for x in range(1, 6)}\n",
    "square_dict"
   ]
  },
  {
   "cell_type": "markdown",
   "id": "b57c3722",
   "metadata": {},
   "source": [
    "### 5. Map words to their lengths\n",
    "- Given [\"apple\", \"banana\", \"cherry\"],\n",
    "    return {\"apple\": 5, \"banana\": 6, \"cherry\": 6}."
   ]
  },
  {
   "cell_type": "code",
   "execution_count": 14,
   "id": "1251d31c",
   "metadata": {},
   "outputs": [
    {
     "data": {
      "text/plain": [
       "{'apple': 5, 'banana': 6, 'cherry': 6}"
      ]
     },
     "execution_count": 14,
     "metadata": {},
     "output_type": "execute_result"
    }
   ],
   "source": [
    "list1 = [\"apple\", \"banana\", \"cherry\"]\n",
    "length_dict = {word: len(word) for word in list1}\n",
    "length_dict"
   ]
  },
  {
   "cell_type": "markdown",
   "id": "cf3c0b1c",
   "metadata": {},
   "source": [
    "### 6. Remove vowels from strings\n",
    "- From [\"hello\", \"world\"], return [\"hll\", \"wrld\"]."
   ]
  },
  {
   "cell_type": "code",
   "execution_count": 8,
   "id": "c36ac9c7",
   "metadata": {},
   "outputs": [
    {
     "data": {
      "text/plain": [
       "['hll', 'wrld']"
      ]
     },
     "execution_count": 8,
     "metadata": {},
     "output_type": "execute_result"
    }
   ],
   "source": [
    "vowels = \"aeiou\"\n",
    "list1 = [\"hello\", \"world\"]\n",
    "no_vowels = [''.join([ch for ch in word if ch.lower() not in vowels]) \n",
    "             for word in list1]\n",
    "no_vowels"
   ]
  },
  {
   "cell_type": "markdown",
   "id": "cc308a3b",
   "metadata": {},
   "source": [
    "### 7. Filter dict entries by value\n",
    "- Given {\"a\": 10, \"b\": 20, \"c\": 30}, return only items with value > 15.\n"
   ]
  },
  {
   "cell_type": "code",
   "execution_count": 9,
   "id": "e1a840d0",
   "metadata": {},
   "outputs": [
    {
     "data": {
      "text/plain": [
       "{'b': 20, 'c': 30}"
      ]
     },
     "execution_count": 9,
     "metadata": {},
     "output_type": "execute_result"
    }
   ],
   "source": [
    "original = {\"a\": 10, \"b\": 20, \"c\": 30}\n",
    "filtered = {k: v for k, v in original.items() if v > 15}\n",
    "filtered"
   ]
  },
  {
   "cell_type": "markdown",
   "id": "ad16dba3",
   "metadata": {},
   "source": [
    "### 8. Inverting a dictionary\n",
    "- From {\"a\": 1, \"b\": 2, \"c\": 3}, return {1: \"a\", 2: \"b\", 3: \"c\"}."
   ]
  },
  {
   "cell_type": "code",
   "execution_count": 10,
   "id": "98593dd6",
   "metadata": {},
   "outputs": [
    {
     "data": {
      "text/plain": [
       "{1: 'a', 2: 'b', 3: 'c'}"
      ]
     },
     "execution_count": 10,
     "metadata": {},
     "output_type": "execute_result"
    }
   ],
   "source": [
    "original = {\"a\": 1, \"b\": 2, \"c\": 3}\n",
    "inverted = {v: k for k, v in original.items()}\n",
    "inverted"
   ]
  },
  {
   "cell_type": "markdown",
   "id": "57a2d4ec",
   "metadata": {},
   "source": [
    "### 9. Find palindromes\n",
    "- From [\"madam\", \"apple\", \"racecar\", \"python\"], return only the palindromes."
   ]
  },
  {
   "cell_type": "code",
   "execution_count": 16,
   "id": "f8aed149",
   "metadata": {},
   "outputs": [
    {
     "data": {
      "text/plain": [
       "['madam', 'racecar']"
      ]
     },
     "execution_count": 16,
     "metadata": {},
     "output_type": "execute_result"
    }
   ],
   "source": [
    "list1 = [\"madam\", \"apple\", \"racecar\", \"python\"] \n",
    "palindromes = [word for word in list1 if word == word[::-1]]\n",
    "palindromes"
   ]
  },
  {
   "cell_type": "code",
   "execution_count": null,
   "id": "6a6748e8",
   "metadata": {},
   "outputs": [],
   "source": []
  },
  {
   "cell_type": "code",
   "execution_count": null,
   "id": "1333d9f4",
   "metadata": {},
   "outputs": [],
   "source": []
  },
  {
   "cell_type": "code",
   "execution_count": null,
   "id": "d7030bba",
   "metadata": {},
   "outputs": [],
   "source": []
  }
 ],
 "metadata": {
  "kernelspec": {
   "display_name": "Python 3 (ipykernel)",
   "language": "python",
   "name": "python3"
  },
  "language_info": {
   "codemirror_mode": {
    "name": "ipython",
    "version": 3
   },
   "file_extension": ".py",
   "mimetype": "text/x-python",
   "name": "python",
   "nbconvert_exporter": "python",
   "pygments_lexer": "ipython3",
   "version": "3.9.7"
  }
 },
 "nbformat": 4,
 "nbformat_minor": 5
}
