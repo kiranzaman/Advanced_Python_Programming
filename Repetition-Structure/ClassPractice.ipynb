{
 "cells": [
  {
   "cell_type": "markdown",
   "id": "b09f8d34",
   "metadata": {},
   "source": [
    "---   \n",
    "---   \n",
    "\n",
    "<h1 align=\"center\">ExD</h1>\n",
    "<h1 align=\"center\">Course: Advanced Python Programming Language</h1>\n",
    "\n",
    "\n",
    "---\n",
    "<h3><div align=\"right\">Instructor: Kiran Khursheed</div></h3>    "
   ]
  },
  {
   "cell_type": "markdown",
   "id": "1a05cfc6",
   "metadata": {},
   "source": [
    "### 1. Count how many vowels are in a string using a for loop."
   ]
  },
  {
   "cell_type": "code",
   "execution_count": 5,
   "id": "cd5f0934",
   "metadata": {},
   "outputs": [
    {
     "name": "stdout",
     "output_type": "stream",
     "text": [
      "Please Enter the string: kiran khursheed\n",
      "Number of vowels in your strings are:  5\n"
     ]
    }
   ],
   "source": [
    "sample_string = input(\"Please Enter the string: \")\n",
    "vowels = \"aeiouAEIOU\"\n",
    "count = 0\n",
    "#'kiran'\n",
    "for char in sample_string:\n",
    "    if char in vowels:\n",
    "        count += 1  # count = count + 1 -- 1 \n",
    "\n",
    "print(\"Number of vowels in your strings are: \", count)"
   ]
  },
  {
   "cell_type": "markdown",
   "id": "acbbdaca",
   "metadata": {},
   "source": [
    "### 2. Print the characters of a string one by one using a for loop."
   ]
  },
  {
   "cell_type": "code",
   "execution_count": 6,
   "id": "6dcae9b5",
   "metadata": {},
   "outputs": [
    {
     "name": "stdout",
     "output_type": "stream",
     "text": [
      "Please Enter the string: kiran\n",
      "Character of a string one by one are:\n",
      "k\n",
      "i\n",
      "r\n",
      "a\n",
      "n\n"
     ]
    }
   ],
   "source": [
    "sample_string = input(\"Please Enter the string: \")\n",
    "print(\"Character of a string one by one are:\")\n",
    "for char in sample_string:\n",
    "    print(char)"
   ]
  },
  {
   "cell_type": "markdown",
   "id": "804bdf1e",
   "metadata": {},
   "source": [
    "### 3. Print even numbers between 1 and 20 using a while loop."
   ]
  },
  {
   "cell_type": "code",
   "execution_count": 9,
   "id": "795ac8f1",
   "metadata": {},
   "outputs": [
    {
     "name": "stdout",
     "output_type": "stream",
     "text": [
      "False\n"
     ]
    }
   ],
   "source": [
    "num = 1  \n",
    "print(num % 2 == 0)"
   ]
  },
  {
   "cell_type": "code",
   "execution_count": 10,
   "id": "2f33e3f5",
   "metadata": {
    "scrolled": true
   },
   "outputs": [
    {
     "name": "stdout",
     "output_type": "stream",
     "text": [
      "Even numbers between 1 and 20:\n",
      "2\n",
      "4\n",
      "6\n",
      "8\n",
      "10\n",
      "12\n",
      "14\n",
      "16\n",
      "18\n",
      "20\n"
     ]
    }
   ],
   "source": [
    "print(\"Even numbers between 1 and 20:\")\n",
    "num = 1\n",
    "while num <= 20:\n",
    "    if num % 2 == 0:\n",
    "        print(num)\n",
    "    num += 1\n"
   ]
  },
  {
   "cell_type": "code",
   "execution_count": null,
   "id": "38f16b46",
   "metadata": {},
   "outputs": [],
   "source": [
    "# 4 6 8 10 12 14 16 18 20 \n"
   ]
  },
  {
   "cell_type": "markdown",
   "id": "e46a50f8",
   "metadata": {},
   "source": [
    "### 4. Print the multiplication table of 5 using a for loop."
   ]
  },
  {
   "cell_type": "code",
   "execution_count": 11,
   "id": "70e516ae",
   "metadata": {},
   "outputs": [
    {
     "name": "stdout",
     "output_type": "stream",
     "text": [
      "📊 Multiplication Table of 5:\n",
      "5 x 1 = 5\n",
      "5 x 2 = 10\n",
      "5 x 3 = 15\n",
      "5 x 4 = 20\n",
      "5 x 5 = 25\n",
      "5 x 6 = 30\n",
      "5 x 7 = 35\n",
      "5 x 8 = 40\n",
      "5 x 9 = 45\n",
      "5 x 10 = 50\n"
     ]
    }
   ],
   "source": [
    "print(\"📊 Multiplication Table of 5:\")\n",
    "for i in range(1, 11):\n",
    "    print(f\"5 x {i} = {5 * i}\") "
   ]
  },
  {
   "cell_type": "markdown",
   "id": "598e4694",
   "metadata": {},
   "source": [
    "### 5. Calculate the sum of numbers from 1 to 100 using a while loop.\n"
   ]
  },
  {
   "cell_type": "code",
   "execution_count": 12,
   "id": "9fa45272",
   "metadata": {},
   "outputs": [
    {
     "name": "stdout",
     "output_type": "stream",
     "text": [
      "The sum of numbers from 1 to 100 is:  5050\n"
     ]
    }
   ],
   "source": [
    "count = 1\n",
    "total = 0\n",
    "while count <= 100:\n",
    "    total += count \n",
    "    count += 1\n",
    "print(\"The sum of numbers from 1 to 100 is: \",total) "
   ]
  },
  {
   "cell_type": "markdown",
   "id": "c0f19dd2",
   "metadata": {},
   "source": [
    "### 6. Find the factorial of a number using a while loop.\n"
   ]
  },
  {
   "cell_type": "code",
   "execution_count": 13,
   "id": "0d257c75",
   "metadata": {},
   "outputs": [
    {
     "name": "stdout",
     "output_type": "stream",
     "text": [
      "Enter a number to find its factorial: 4\n",
      "Factorial of 4 is: 24\n"
     ]
    }
   ],
   "source": [
    "num = int(input(\"Enter a number to find its factorial: \"))\n",
    "factorial = 1\n",
    "i = 1\n",
    "\n",
    "while i <= num:\n",
    "    factorial *= i\n",
    "    i += 1\n",
    "# 4\n",
    "# 4 3 2 1  \n",
    "print(f\"Factorial of {num} is: {factorial}\")"
   ]
  },
  {
   "cell_type": "markdown",
   "id": "08884c17",
   "metadata": {},
   "source": [
    "### 7. Check if a number is a prime number using a while loop."
   ]
  },
  {
   "cell_type": "code",
   "execution_count": 15,
   "id": "1a461c7d",
   "metadata": {},
   "outputs": [
    {
     "name": "stdout",
     "output_type": "stream",
     "text": [
      "Enter a number to check if it's prime: 5\n",
      "5  is a prime number.\n"
     ]
    }
   ],
   "source": [
    "num = int(input(\"Enter a number to check if it's prime: \"))\n",
    "if num > 1:\n",
    "    is_prime = True\n",
    "    i = 2\n",
    "    while i < num:\n",
    "        if num % i == 0:\n",
    "            is_prime = False\n",
    "            break\n",
    "        i += 1\n",
    "    if is_prime:\n",
    "        print(num, \" is a prime number.\")\n",
    "    else:\n",
    "        print(num, \" is not a prime number.\")\n",
    "else:\n",
    "    print(num, \" is not a prime number.\")"
   ]
  },
  {
   "cell_type": "markdown",
   "id": "7417b4a2",
   "metadata": {},
   "source": [
    "### 8. Find all the numbers divisible by 3 and 5 between 1 and 100 using a for loop.\n"
   ]
  },
  {
   "cell_type": "code",
   "execution_count": 16,
   "id": "3f9775f3",
   "metadata": {},
   "outputs": [
    {
     "name": "stdout",
     "output_type": "stream",
     "text": [
      "Numbers divisible by both 3 and 5 between 1 and 100:\n",
      "15\n",
      "30\n",
      "45\n",
      "60\n",
      "75\n",
      "90\n"
     ]
    }
   ],
   "source": [
    "print(\"Numbers divisible by both 3 and 5 between 1 and 100:\")\n",
    "for num in range(1, 101):\n",
    "    if num % 3 == 0 and num % 5 == 0:\n",
    "        print(num) "
   ]
  },
  {
   "cell_type": "markdown",
   "id": "feac2e4f",
   "metadata": {},
   "source": [
    "### 9. Check if a string is a palindrome using a loop"
   ]
  },
  {
   "cell_type": "code",
   "execution_count": 20,
   "id": "cc60fd92",
   "metadata": {},
   "outputs": [
    {
     "name": "stdout",
     "output_type": "stream",
     "text": [
      "Enter a string to check if it's a palindrome: madam\n",
      "Start:  0 End:  4\n",
      "madam  is a palindrome!\n"
     ]
    }
   ],
   "source": [
    "text = input(\"Enter a string to check if it's a palindrome: \").lower()\n",
    "text = text.strip()\n",
    "\n",
    "start = 0\n",
    "end = len(text) - 1\n",
    "print(\"Start: \", start, \"End: \" , end)\n",
    "is_palindrome = True\n",
    "\n",
    "\n",
    "while start < end:\n",
    "    # text[0] != text[4] \n",
    "    if text[start] != text[end]:\n",
    "        is_palindrome = False\n",
    "        break\n",
    "    start += 1\n",
    "    end -= 1\n",
    "\n",
    "if is_palindrome:\n",
    "    print(text, \" is a palindrome!\")\n",
    "else:\n",
    "    print(text, \" is not a palindrome.\")\n"
   ]
  },
  {
   "cell_type": "markdown",
   "id": "84691b00",
   "metadata": {},
   "source": [
    "### 10. Generate a pattern like:\n",
    "\\* <br>\n",
    "\\** <br>\n",
    "\\*** <br>\n",
    "\\**** <br>\n"
   ]
  },
  {
   "cell_type": "code",
   "execution_count": 22,
   "id": "542ec78e",
   "metadata": {},
   "outputs": [
    {
     "name": "stdout",
     "output_type": "stream",
     "text": [
      "*\n",
      "**\n",
      "***\n"
     ]
    }
   ],
   "source": [
    "for i in range(1, 4):\n",
    "    print(\"*\" * i)"
   ]
  },
  {
   "cell_type": "markdown",
   "id": "37b93945",
   "metadata": {},
   "source": [
    "### 12. Reverse a number using a while loop \n",
    "- e.g. 1234 4321 "
   ]
  },
  {
   "cell_type": "code",
   "execution_count": 23,
   "id": "c74d49ed",
   "metadata": {},
   "outputs": [
    {
     "name": "stdout",
     "output_type": "stream",
     "text": [
      "Enter a number to reverse 5689\n",
      "digit:  9\n",
      "reversed_num:  9\n",
      "num:  568\n",
      "digit:  8\n",
      "reversed_num:  98\n",
      "num:  56\n",
      "digit:  6\n",
      "reversed_num:  986\n",
      "num:  5\n",
      "digit:  5\n",
      "reversed_num:  9865\n",
      "num:  0\n",
      "Reversed number: 9865\n"
     ]
    }
   ],
   "source": [
    "num = int(input(\"Enter a number to reverse \"))\n",
    "reversed_num = 0\n",
    "\n",
    "while num > 0:\n",
    "    digit = num % 10\n",
    "    print(\"digit: \",digit)\n",
    "    reversed_num = reversed_num * 10 + digit\n",
    "    print(\"reversed_num: \", reversed_num)\n",
    "    num = num // 10\n",
    "    print(\"num: \",num)\n",
    "\n",
    "print(\"Reversed number:\", reversed_num)\n"
   ]
  },
  {
   "cell_type": "markdown",
   "id": "4a1240aa",
   "metadata": {},
   "source": [
    "#### Another Implementation"
   ]
  },
  {
   "cell_type": "code",
   "execution_count": null,
   "id": "d94d187c",
   "metadata": {},
   "outputs": [],
   "source": [
    "num = int(input(\"Enter a number to reverse \"))\n",
    "original_num = num\n",
    "rv = 0\n",
    "while True:\n",
    "    if num < 10:\n",
    "        rv = (rv * 10) +  (num % 10)\n",
    "        break\n",
    "    rv = (rv * 10) +  (num % 10)\n",
    "    num //= 10\n",
    "\n",
    "print(\"\\n\",original_num, \"in reverse order is \" , rv)\n"
   ]
  }
 ],
 "metadata": {
  "kernelspec": {
   "display_name": "Python 3 (ipykernel)",
   "language": "python",
   "name": "python3"
  },
  "language_info": {
   "codemirror_mode": {
    "name": "ipython",
    "version": 3
   },
   "file_extension": ".py",
   "mimetype": "text/x-python",
   "name": "python",
   "nbconvert_exporter": "python",
   "pygments_lexer": "ipython3",
   "version": "3.9.7"
  }
 },
 "nbformat": 4,
 "nbformat_minor": 5
}
