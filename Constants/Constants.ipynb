{
 "cells": [
  {
   "cell_type": "markdown",
   "id": "14894adf",
   "metadata": {},
   "source": [
    "---   \n",
    "\n",
    "<h1 align=\"center\">ExD</h1>\n",
    "<h1 align=\"center\">Course: Advanced Python Programming Language</h1>\n",
    "\n",
    "---   "
   ]
  },
  {
   "cell_type": "markdown",
   "id": "8a0b5128",
   "metadata": {},
   "source": [
    "<h1 align=\"center\">Constants</h1>"
   ]
  },
  {
   "cell_type": "markdown",
   "id": "217504e7",
   "metadata": {},
   "source": [
    "## _Constants.ipynb_\n",
    "#### [Python Constants](https://docs.python.org/3/library/constants.html#)"
   ]
  },
  {
   "cell_type": "markdown",
   "id": "e690e63b",
   "metadata": {},
   "source": [
    "**What is a Constant?**"
   ]
  },
  {
   "cell_type": "markdown",
   "id": "75435c6e",
   "metadata": {},
   "source": [
    "Imagine you have a favorite toy. You never want to change it, right? It’s your special toy.\n",
    "\n",
    "In Python, a constant is like that special toy. You give it a name, and you don’t change it. It stays the same while the program runs."
   ]
  },
  {
   "cell_type": "code",
   "execution_count": null,
   "id": "401c5e99",
   "metadata": {},
   "outputs": [],
   "source": [
    "SPEED_OF_LIGHT = 299792458  # meters per second\n"
   ]
  },
  {
   "cell_type": "markdown",
   "id": "938df0ab",
   "metadata": {},
   "source": [
    "#### Here, SPEED_OF_LIGHT is a constant. We treat it as something that never changes. So, constants are special names for values that don’t change."
   ]
  },
  {
   "cell_type": "markdown",
   "id": "0cb131af",
   "metadata": {},
   "source": []
  },
  {
   "cell_type": "markdown",
   "id": "b128f324",
   "metadata": {},
   "source": [
    "## Built-in Constants in Python\n",
    "- Python has a small set of predefined constants that you can use without importing anything. These constants are always available in your Python program. Here’s a list of the most important built-in constants: \n",
    "| Constant         | Description                                                                                              |\n",
    "|------------------|----------------------------------------------------------------------------------------------------------|\n",
    "| `True`           | Boolean constant for true values. Example: `True == 1` is `True`.                                        |\n",
    "| `False`          | Boolean constant for false values. Example: `False == 0` is `True`.                                      |\n",
    "| `None`           | Represents the absence of a value or a null value. Example: `x = None`.                                  |\n",
    "| `Ellipsis`       | Special constant (`...`) often used in slicing or placeholders. Example: `...`.                           |\n",
    "| `NotImplemented` | Special constant indicating an operation is not implemented for a given type. Example: `__eq__` methods can return `NotImplemented`. |\n",
    "| `__debug__`      | A constant that is `True` if Python is not started with the `-O` option (optimized mode). It’s `False` when running optimized Python. |\n"
   ]
  },
  {
   "cell_type": "code",
   "execution_count": 1,
   "id": "810172a8",
   "metadata": {},
   "outputs": [
    {
     "name": "stdout",
     "output_type": "stream",
     "text": [
      "True\n",
      "False\n",
      "None\n",
      "Ellipsis\n",
      "True\n"
     ]
    }
   ],
   "source": [
    "print(True)         # True\n",
    "print(False)        # False\n",
    "\n",
    "x = None\n",
    "print(x)            # None\n",
    "\n",
    "print(...)          # Ellipsis\n",
    "\n",
    "def add(a, b):\n",
    "    return NotImplemented  # Placeholder for not yet implemented function\n",
    "\n",
    "print(__debug__)    # True by default"
   ]
  },
  {
   "cell_type": "markdown",
   "id": "c80e472a",
   "metadata": {},
   "source": [
    "### Ellipsis \n",
    "\n",
    "* It is used as a placeholder or for advanced slicing (mainly in multi-dimensional arrays like NumPy).\n",
    "* It’s often used when you want to say: “Something should go here, but I’m not ready to write it yet.”"
   ]
  },
  {
   "cell_type": "markdown",
   "id": "dc019456",
   "metadata": {},
   "source": [
    "#### 1.Placeholder for Incomplete Code (Temporary)"
   ]
  },
  {
   "cell_type": "code",
   "execution_count": 2,
   "id": "6c89d116",
   "metadata": {},
   "outputs": [],
   "source": [
    "def my_function():\n",
    "    ...\n",
    "    # This means: I'll fill this in later!\n",
    "\n",
    "class MyClass:\n",
    "    ...\n"
   ]
  },
  {
   "cell_type": "markdown",
   "id": "8dd3afed",
   "metadata": {},
   "source": [
    "###### This is like saying, “I’m still thinking about this part!”"
   ]
  },
  {
   "cell_type": "markdown",
   "id": "28670afa",
   "metadata": {},
   "source": [
    "#### 2.In Slicing (Advanced)\n",
    "\n",
    "Let’s say you have a multi-dimensional array (e.g., in NumPy):"
   ]
  },
  {
   "cell_type": "code",
   "execution_count": 7,
   "id": "2ee4d8f3",
   "metadata": {},
   "outputs": [
    {
     "data": {
      "text/plain": [
       "array([[[ 0,  1,  2],\n",
       "        [ 3,  4,  5],\n",
       "        [ 6,  7,  8]],\n",
       "\n",
       "       [[ 9, 10, 11],\n",
       "        [12, 13, 14],\n",
       "        [15, 16, 17]],\n",
       "\n",
       "       [[18, 19, 20],\n",
       "        [21, 22, 23],\n",
       "        [24, 25, 26]]])"
      ]
     },
     "execution_count": 7,
     "metadata": {},
     "output_type": "execute_result"
    }
   ],
   "source": [
    "arr = np.arange(27).reshape(3, 3,3)\n",
    "arr"
   ]
  },
  {
   "cell_type": "code",
   "execution_count": 8,
   "id": "9b309c82",
   "metadata": {},
   "outputs": [
    {
     "data": {
      "text/plain": [
       "array([[ 0,  3,  6],\n",
       "       [ 9, 12, 15],\n",
       "       [18, 21, 24]])"
      ]
     },
     "execution_count": 8,
     "metadata": {},
     "output_type": "execute_result"
    }
   ],
   "source": [
    "arr[:,:,0]"
   ]
  },
  {
   "cell_type": "code",
   "execution_count": 9,
   "id": "f5286238",
   "metadata": {},
   "outputs": [
    {
     "name": "stdout",
     "output_type": "stream",
     "text": [
      "[[[ 0  1  2]\n",
      "  [ 3  4  5]\n",
      "  [ 6  7  8]]\n",
      "\n",
      " [[ 9 10 11]\n",
      "  [12 13 14]\n",
      "  [15 16 17]]\n",
      "\n",
      " [[18 19 20]\n",
      "  [21 22 23]\n",
      "  [24 25 26]]]\n",
      "-------------------------\n",
      "[[ 0  3  6]\n",
      " [ 9 12 15]\n",
      " [18 21 24]]\n"
     ]
    }
   ],
   "source": [
    "import numpy as np\n",
    "arr = np.arange(27).reshape(3, 3, 3)\n",
    "print(arr)\n",
    "print(\"-------------------------\")\n",
    "print(arr[..., 0])"
   ]
  },
  {
   "cell_type": "markdown",
   "id": "ebad60bf",
   "metadata": {},
   "source": [
    "Here:\n",
    "\n",
    "    ... means: \"Keep all other dimensions as they are.\"\n",
    "\n",
    "    So arr[..., 0] means: “Give me the first element of the last dimension across all dimensions.”"
   ]
  },
  {
   "cell_type": "markdown",
   "id": "a23cc365",
   "metadata": {},
   "source": [
    "###### Why does ... mean “keep all dimensions as they are except the last one”?"
   ]
  },
  {
   "cell_type": "markdown",
   "id": "34238261",
   "metadata": {},
   "source": [
    "When we use Ellipsis (...) in NumPy slicing, it’s a shortcut that says:\n",
    "\n",
    "    \"I don’t want to write all the colons (:) for every dimension, so just keep everything else the same.\"\n",
    "    \n",
    "If you wanted to select the first element of the last dimension without using ..., you’d write:  "
   ]
  },
  {
   "cell_type": "code",
   "execution_count": null,
   "id": "2cbaeda1",
   "metadata": {},
   "outputs": [],
   "source": [
    "arr[:, :, 0]"
   ]
  },
  {
   "cell_type": "markdown",
   "id": "eca5f228",
   "metadata": {},
   "source": [
    "This means:\n",
    "\n",
    "  - : in the first dimension (take everything),\n",
    "\n",
    "  - : in the second dimension (take everything),\n",
    "\n",
    "  - 0 in the last dimension (take the first element).\n",
    "\n",
    "But writing all those colons gets tiring for bigger arrays! So Python gives us a shortcut:\n",
    "  - arr[..., 0]\n",
    "\n",
    "| Dimension     | What it holds                   | Shape (Size)      |\n",
    "| ------------- | ------------------------------- | ----------------- |\n",
    "| 1st dimension | The **big blocks**              | 3 blocks          |\n",
    "| 2nd dimension | The **rows inside each block**  | 3 rows per block  |\n",
    "| 3rd dimension | The **columns inside each row** | 3 columns per row |\n",
    "\n",
    "#### Think of it like:\n",
    "\n",
    "    A block (1st dimension),\n",
    "\n",
    "    Inside is a row (2nd dimension),\n",
    "\n",
    "    And inside that row is a column (3rd dimension).\n",
    "\n",
    "So the last dimension is the column.\n"
   ]
  },
  {
   "cell_type": "code",
   "execution_count": 10,
   "id": "9a02a055",
   "metadata": {},
   "outputs": [
    {
     "data": {
      "text/plain": [
       "array([[ 2,  5,  8],\n",
       "       [11, 14, 17],\n",
       "       [20, 23, 26]])"
      ]
     },
     "execution_count": 10,
     "metadata": {},
     "output_type": "execute_result"
    }
   ],
   "source": [
    "arr[..., 2]"
   ]
  },
  {
   "cell_type": "markdown",
   "id": "7ab3e00a",
   "metadata": {},
   "source": []
  },
  {
   "cell_type": "markdown",
   "id": "b7fae0de",
   "metadata": {},
   "source": [
    "This says:\n",
    "\n",
    "> \"Keep everything else (: for all other dimensions), but in the last dimension, take index 0.\"\n",
    "\n",
    "##### Why the last dimension?\n",
    "\n",
    "Think of it this way:\n",
    "\n",
    "   - If you write arr[0], you’re taking the first block in the first dimension.\n",
    "\n",
    "   - If you write arr[..., 0], you’re taking the first item in the last dimension for all other dimensions.\n",
    "\n",
    "So, ... fills in the missing colons."
   ]
  },
  {
   "cell_type": "markdown",
   "id": "f6c2c02e",
   "metadata": {},
   "source": [
    "| What you write      | What NumPy sees    |\n",
    "|---------------------|--------------------|\n",
    "| `arr[..., 0]`       | `arr[:, :, 0]`     |\n",
    "| `arr[..., 1]`       | `arr[:, :, 1]`     |\n",
    "| `arr[0, ..., 0]`    | `arr[0, :, 0]`     |\n",
    "| `arr[0, 1, ...]`    | `arr[0, 1, :]`     |"
   ]
  },
  {
   "cell_type": "markdown",
   "id": "b9695d9e",
   "metadata": {},
   "source": [
    " - ... is a shortcut for \"all dimensions I didn't explicitly write.\"\n",
    "\n",
    " - It helps you select the right part of a multidimensional array without having to write all the colons.\n",
    "\n",
    " - The number you write (e.g., 0 in arr[..., 0]) is applied to the last remaining axis."
   ]
  },
  {
   "cell_type": "markdown",
   "id": "6ae70adb",
   "metadata": {},
   "source": [
    "#### 3. Printing the Value\n",
    "\n",
    "You can also see that ... is actually a constant by printing it:"
   ]
  },
  {
   "cell_type": "code",
   "execution_count": 12,
   "id": "1e908b3c",
   "metadata": {},
   "outputs": [
    {
     "name": "stdout",
     "output_type": "stream",
     "text": [
      "Ellipsis\n",
      "Ellipsis\n"
     ]
    }
   ],
   "source": [
    "print(Ellipsis)  # Output: Ellipsis\n",
    "print(...)       # Output: Ellipsis"
   ]
  },
  {
   "cell_type": "code",
   "execution_count": null,
   "id": "60409eec",
   "metadata": {},
   "outputs": [],
   "source": []
  },
  {
   "cell_type": "markdown",
   "id": "889d4e82",
   "metadata": {},
   "source": [
    "#### 4. In Type Hints \n",
    "\n",
    "When using Python typing for static type checking, ... is used in function signatures to mean any number of arguments. \n",
    "\n",
    "This tells type checkers: \"This is a function that accepts any number of arguments.\"\n",
    "\n",
    " - Callable means: \"This is a function (or something that can be called, like a function).\"\n",
    " - The [...] inside Callable means: \"I don’t care what arguments the function takes. It can take anything, any number of arguments, of any type.\""
   ]
  },
  {
   "cell_type": "code",
   "execution_count": 30,
   "id": "f305667b",
   "metadata": {},
   "outputs": [],
   "source": [
    "from typing import Callable\n",
    "\n",
    "f: Callable[..., int]  # Function takes any arguments, returns int\n"
   ]
  },
  {
   "cell_type": "code",
   "execution_count": null,
   "id": "5a9deacc",
   "metadata": {},
   "outputs": [],
   "source": []
  },
  {
   "cell_type": "code",
   "execution_count": 31,
   "id": "66b53c84",
   "metadata": {},
   "outputs": [],
   "source": [
    "def foo(x, y):\n",
    "    return 1\n",
    "\n",
    "def bar(a, b, c, d):\n",
    "    return 2\n"
   ]
  },
  {
   "cell_type": "markdown",
   "id": "fbb2a6e6",
   "metadata": {},
   "source": [
    "Both foo and bar can match the type Callable[..., int] because they can have any arguments."
   ]
  },
  {
   "cell_type": "markdown",
   "id": "384e77ca",
   "metadata": {},
   "source": [
    "#### What is Callable?\n",
    "\n",
    "In Python, Callable is a special type hint from the typing module.\n",
    "\n",
    "It simply means:\n",
    "\n",
    "    \"A thing that you can call like a function.\"\n"
   ]
  },
  {
   "cell_type": "markdown",
   "id": "3bcec40a",
   "metadata": {},
   "source": [
    "#### What is a Type Hint in Python?\n",
    "\n",
    "A type hint is like a little note you leave in your code that tells:\n",
    "\n",
    "    What kind of data a variable, function, or return value should hold.\n",
    "\n",
    "It’s like saying:\n",
    "\n",
    "    \"Hey, this is what I expect this thing to be!\"\n",
    "\n",
    "But it doesn’t force Python to check it (Python is dynamically typed, so it won’t break your code if you mess up), but it helps humans (and tools like linters, code editors, etc.) understand your code better!"
   ]
  },
  {
   "cell_type": "markdown",
   "id": "c196c250",
   "metadata": {},
   "source": [
    "####  Without type hints:\n",
    "It’s not clear what type name should be."
   ]
  },
  {
   "cell_type": "code",
   "execution_count": 32,
   "id": "43bcec93",
   "metadata": {},
   "outputs": [
    {
     "data": {
      "text/plain": [
       "'Hello, 1'"
      ]
     },
     "execution_count": 32,
     "metadata": {},
     "output_type": "execute_result"
    }
   ],
   "source": [
    "def greet(name):\n",
    "    return f\"Hello, {name}\"\n",
    "greet(\"Hello Class\")\n",
    "greet(1)"
   ]
  },
  {
   "cell_type": "markdown",
   "id": "6ef0e553",
   "metadata": {},
   "source": [
    "####  With type hints:\n",
    "Now it’s clear:\n",
    "\n",
    " - name should be a string (str),\n",
    " - the function will return a string (str)."
   ]
  },
  {
   "cell_type": "code",
   "execution_count": 33,
   "id": "47545d4a",
   "metadata": {},
   "outputs": [
    {
     "data": {
      "text/plain": [
       "'Hello, 1.37'"
      ]
     },
     "execution_count": 33,
     "metadata": {},
     "output_type": "execute_result"
    }
   ],
   "source": [
    "def greet(name: str) -> str:\n",
    "    return f\"Hello, {name}\"\n",
    "greet(1.37)"
   ]
  },
  {
   "cell_type": "code",
   "execution_count": 34,
   "id": "7ee02ea5",
   "metadata": {},
   "outputs": [],
   "source": [
    "from typing import Callable\n",
    "\n",
    "my_func: Callable[..., int]\n"
   ]
  },
  {
   "cell_type": "code",
   "execution_count": 35,
   "id": "17851c32",
   "metadata": {},
   "outputs": [
    {
     "name": "stdout",
     "output_type": "stream",
     "text": [
      "42\n",
      "None\n"
     ]
    }
   ],
   "source": [
    "from typing import Callable\n",
    "\n",
    "def call_me_back(f: Callable[..., int]):\n",
    "    result = f(\"hello\", 123, True)\n",
    "    print(result)\n",
    "\n",
    "def my_function(a, b, c):\n",
    "    return 42\n",
    "\n",
    "a = call_me_back(my_function)  \n",
    "print(a)"
   ]
  },
  {
   "cell_type": "markdown",
   "id": "af9e9e3b",
   "metadata": {},
   "source": [
    "##### What does this mean?\n",
    "\n",
    "- Callable[..., int] means:\n",
    "\n",
    "      f can be any function that takes any number of arguments (... means any arguments),\n",
    "        but it must return an integer (int).\n",
    "     "
   ]
  },
  {
   "cell_type": "markdown",
   "id": "5cbd5160",
   "metadata": {},
   "source": [
    "#### 5. Custom Objects and Special Cases\n",
    "\n",
    "In your own Python code, you can check if the user used an ellipsis (...). \n",
    "\n",
    "This is rare, but useful in special APIs or libraries."
   ]
  },
  {
   "cell_type": "code",
   "execution_count": 36,
   "id": "95132ef7",
   "metadata": {},
   "outputs": [
    {
     "name": "stdout",
     "output_type": "stream",
     "text": [
      "You passed an Ellipsis!\n"
     ]
    }
   ],
   "source": [
    "def my_func(x):\n",
    "    if x is Ellipsis:\n",
    "        print(\"You passed an Ellipsis!\")\n",
    "\n",
    "my_func(...)\n",
    "# Output: You passed an Ellipsis!\n"
   ]
  },
  {
   "cell_type": "markdown",
   "id": "ec47900b",
   "metadata": {},
   "source": [
    "#### 6. In Slicing for __getitem__ (Special Methods)\n",
    "\n",
    "When you define a custom class that supports slicing, you might handle Ellipsis inside `__getitem__`.\n",
    "\n",
    "Some libraries (like TensorFlow, PyTorch) handle ellipsis this way.\n"
   ]
  },
  {
   "cell_type": "markdown",
   "id": "f2f91bb6",
   "metadata": {},
   "source": [
    "#### What is slicing and __getitem__?\n",
    "\n",
    "    In Python, slicing means selecting parts of a sequence (like a list or array) using the [] brackets with : notation."
   ]
  },
  {
   "cell_type": "code",
   "execution_count": 37,
   "id": "f94a52f3",
   "metadata": {},
   "outputs": [
    {
     "name": "stdout",
     "output_type": "stream",
     "text": [
      "[1, 2]\n"
     ]
    }
   ],
   "source": [
    "my_list = [0, 1, 2, 3, 4]\n",
    "print(my_list[1:3])  "
   ]
  },
  {
   "cell_type": "markdown",
   "id": "53474b54",
   "metadata": {},
   "source": [
    "When you do obj[key] in Python, under the hood, Python calls a special method on the object called `__getitem__`."
   ]
  },
  {
   "cell_type": "code",
   "execution_count": 38,
   "id": "5602eecf",
   "metadata": {},
   "outputs": [
    {
     "data": {
      "text/plain": [
       "0"
      ]
     },
     "execution_count": 38,
     "metadata": {},
     "output_type": "execute_result"
    }
   ],
   "source": [
    "#obj.__getitem__(key)\n",
    "my_list.__getitem__(0)"
   ]
  },
  {
   "cell_type": "code",
   "execution_count": 39,
   "id": "2705409c",
   "metadata": {},
   "outputs": [
    {
     "name": "stdout",
     "output_type": "stream",
     "text": [
      "[1, 2]\n"
     ]
    }
   ],
   "source": [
    "print(my_list.__getitem__(slice(1, 3)))\n"
   ]
  },
  {
   "cell_type": "markdown",
   "id": "da1dc0af",
   "metadata": {},
   "source": [
    "### Why handle Ellipsis inside `__getitem__`?\n",
    "\n",
    " - If you create your own class that supports slicing and indexing, you may want to accept and understand the Ellipsis in the slicing part."
   ]
  },
  {
   "cell_type": "code",
   "execution_count": 40,
   "id": "7ecd52dc",
   "metadata": {},
   "outputs": [
    {
     "name": "stdout",
     "output_type": "stream",
     "text": [
      "Ellipsis found!\n"
     ]
    }
   ],
   "source": [
    "class MyArray:\n",
    "    def __getitem__(self, key):\n",
    "        if key is Ellipsis:\n",
    "            print(\"Ellipsis found!\")\n",
    "        else:\n",
    "            print(f\"Key is {key}\")\n",
    "\n",
    "arr = MyArray()\n",
    "arr[...]  \n"
   ]
  },
  {
   "cell_type": "markdown",
   "id": "66655e58",
   "metadata": {},
   "source": [
    "### Real-world use in libraries like TensorFlow and PyTorch\n",
    "\n",
    "- Libraries for machine learning and scientific computing (like TensorFlow, PyTorch) deal with high-dimensional tensors.\n",
    "\n",
    "- These tensors have many dimensions (like 4D or 5D).\n",
    "\n",
    "- They allow users to use ... in slicing to easily select or manipulate multiple dimensions without typing all of them.\n",
    "\n",
    "- So their custom `__getitem__` methods must recognize and correctly handle Ellipsis to work properly."
   ]
  },
  {
   "cell_type": "code",
   "execution_count": null,
   "id": "b2a5e788",
   "metadata": {},
   "outputs": [],
   "source": []
  },
  {
   "cell_type": "markdown",
   "id": "27715bf6",
   "metadata": {},
   "source": [
    "## What is NotImplemented? \n",
    "\n",
    "NotImplemented is a special constant in Python.\n",
    "\n",
    "It’s used in operator overloading methods like:\n",
    "\n",
    " - `__add__`\n",
    "\n",
    " - `__eq__`\n",
    "\n",
    " - `__mul__`\n",
    "\n",
    " - `__sub__`\n",
    "\n",
    " - etc.\n",
    "    \n",
    "It tells Python:\n",
    "\n",
    "    \"I don’t know how to handle this operation, maybe the other object does.\"\n",
    "\n",
    "If a method like `__eq__` or `__add__` returns NotImplemented, Python will try the other side’s method.\n",
    "\n",
    "If both sides say NotImplemented, Python raises a TypeError."
   ]
  },
  {
   "cell_type": "code",
   "execution_count": 41,
   "id": "67dac48d",
   "metadata": {},
   "outputs": [
    {
     "name": "stdout",
     "output_type": "stream",
     "text": [
      "False\n"
     ]
    }
   ],
   "source": [
    "class A:\n",
    "    def __eq__(self, other):\n",
    "        if isinstance(other, B):\n",
    "            return NotImplemented  # A and B are never equal (A thinks so)\n",
    "        return False  # Let other handle it\n",
    "class B:\n",
    "    def __eq__(self, other):\n",
    "        if isinstance(other, A):\n",
    "            return NotImplemented  # B thinks they are equal\n",
    "        return NotImplemented\n",
    "a = A()\n",
    "b = B()\n",
    "\n",
    "print(a == b)  # What happens here?\n",
    "#print(b == a)\n"
   ]
  },
  {
   "cell_type": "code",
   "execution_count": null,
   "id": "68046b8c",
   "metadata": {},
   "outputs": [],
   "source": []
  },
  {
   "cell_type": "markdown",
   "id": "1c7fc65d",
   "metadata": {},
   "source": [
    "###  `__debug__`"
   ]
  },
  {
   "cell_type": "code",
   "execution_count": null,
   "id": "075a8e41",
   "metadata": {},
   "outputs": [],
   "source": []
  },
  {
   "cell_type": "code",
   "execution_count": null,
   "id": "3c199880",
   "metadata": {},
   "outputs": [],
   "source": []
  }
 ],
 "metadata": {
  "kernelspec": {
   "display_name": "Python 3 (ipykernel)",
   "language": "python",
   "name": "python3"
  },
  "language_info": {
   "codemirror_mode": {
    "name": "ipython",
    "version": 3
   },
   "file_extension": ".py",
   "mimetype": "text/x-python",
   "name": "python",
   "nbconvert_exporter": "python",
   "pygments_lexer": "ipython3",
   "version": "3.9.7"
  }
 },
 "nbformat": 4,
 "nbformat_minor": 5
}
