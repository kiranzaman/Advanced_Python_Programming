{
 "cells": [
  {
   "cell_type": "code",
   "execution_count": 1,
   "id": "8c4c943e",
   "metadata": {},
   "outputs": [
    {
     "name": "stdout",
     "output_type": "stream",
     "text": [
      "Here's your random meme!\n",
      "Caption: I don't always test my code, but when I do, I do it in production.\n",
      "Image URL: image\n"
     ]
    }
   ],
   "source": [
    "from meme import generator\n",
    "\n",
    "def main():\n",
    "    meme = generator.generate_meme()\n",
    "    print(\"Here's your random meme!\")\n",
    "    print(\"Caption:\", meme[\"caption\"])\n",
    "    print(\"Image URL:\", meme[\"image_url\"])\n",
    "\n",
    "if __name__ == \"__main__\":\n",
    "    main()\n"
   ]
  },
  {
   "cell_type": "code",
   "execution_count": null,
   "id": "a6e526fe",
   "metadata": {},
   "outputs": [],
   "source": []
  }
 ],
 "metadata": {
  "kernelspec": {
   "display_name": "Python 3 (ipykernel)",
   "language": "python",
   "name": "python3"
  },
  "language_info": {
   "codemirror_mode": {
    "name": "ipython",
    "version": 3
   },
   "file_extension": ".py",
   "mimetype": "text/x-python",
   "name": "python",
   "nbconvert_exporter": "python",
   "pygments_lexer": "ipython3",
   "version": "3.9.7"
  }
 },
 "nbformat": 4,
 "nbformat_minor": 5
}
