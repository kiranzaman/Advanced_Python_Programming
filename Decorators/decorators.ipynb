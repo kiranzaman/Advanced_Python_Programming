{
 "cells": [
  {
   "cell_type": "markdown",
   "id": "14894adf",
   "metadata": {},
   "source": [
    "---   \n",
    "\n",
    "<h1 align=\"center\">ExD</h1>\n",
    "<h1 align=\"center\">Course: Advanced Python Programming Language</h1>\n",
    "\n",
    "---   "
   ]
  },
  {
   "cell_type": "markdown",
   "id": "8a0b5128",
   "metadata": {},
   "source": [
    "<h1 align=\"center\">Decorators</h1>"
   ]
  },
  {
   "cell_type": "markdown",
   "id": "217504e7",
   "metadata": {},
   "source": [
    "## _decorators.ipynb_\n",
    "#### [Python Decorators](https://peps.python.org/pep-0318/#)"
   ]
  },
  {
   "cell_type": "markdown",
   "id": "e690e63b",
   "metadata": {},
   "source": [
    "# Decorators"
   ]
  },
  {
   "cell_type": "markdown",
   "id": "dcd7782b",
   "metadata": {},
   "source": [
    "In Python, decorators are a powerful and flexible way to modify or extend the behavior of functions or methods, without changing their actual code. A decorator is essentially a function that takes another function as an argument and returns a new function with enhanced functionality.\n",
    "\n",
    "Decorators are often used in scenarios such as logging, authentication and memorization, allowing us to add additional functionality to existing functions or methods in a clean, reusable way.\n",
    "\n",
    "You have a function, say_hello().\n",
    "- You want to add some extra behavior to it, like printing \"Start\" before and \"End\" after calling it, but without changing the function itself.\n",
    "\n",
    "#### How does a decorator help?\n",
    "\n",
    "  - You write a decorator function that \"wraps\" your original function.\n",
    "\n",
    "  - When you use the decorator, your function runs inside the wrapper, so you get extra behavior."
   ]
  },
  {
   "cell_type": "code",
   "execution_count": 1,
   "id": "8e393662",
   "metadata": {},
   "outputs": [],
   "source": [
    "def my_decorator(func):\n",
    "    def wrapper():\n",
    "        print(\"Before the function runs\")\n",
    "        func()\n",
    "        print(\"After the function runs\")\n",
    "    return wrapper\n",
    "\n",
    "@my_decorator  # <-- This applies the decorator to say_hello\n",
    "def say_hello():\n",
    "    print(\"Hello!\")"
   ]
  },
  {
   "cell_type": "code",
   "execution_count": null,
   "id": "f13381da",
   "metadata": {},
   "outputs": [],
   "source": [
    "say_hello()"
   ]
  },
  {
   "cell_type": "code",
   "execution_count": null,
   "id": "6ddd2096",
   "metadata": {},
   "outputs": [],
   "source": []
  },
  {
   "cell_type": "code",
   "execution_count": 2,
   "id": "c90fb7c5",
   "metadata": {},
   "outputs": [
    {
     "name": "stdout",
     "output_type": "stream",
     "text": [
      "I'm decorating your function!\n",
      "Hello, world!\n",
      "I'm done decorating!\n"
     ]
    }
   ],
   "source": [
    "def simple_decorator(func):\n",
    "    def wrapper():\n",
    "        print(\"I'm decorating your function!\")\n",
    "        func()\n",
    "        print(\"I'm done decorating!\")\n",
    "    return wrapper\n",
    "\n",
    "@simple_decorator\n",
    "def greet():\n",
    "    print(\"Hello, world!\")\n",
    "\n",
    "greet()"
   ]
  },
  {
   "cell_type": "markdown",
   "id": "3ab954bf",
   "metadata": {},
   "source": [
    "#### A Decorator to Time a Function"
   ]
  },
  {
   "cell_type": "code",
   "execution_count": 3,
   "id": "480102e4",
   "metadata": {},
   "outputs": [
    {
     "name": "stdout",
     "output_type": "stream",
     "text": [
      "Task finished!\n",
      "Execution took 2.0032551288604736 seconds.\n"
     ]
    }
   ],
   "source": [
    "import time\n",
    "\n",
    "def timer_decorator(func):\n",
    "    def wrapper():\n",
    "        start = time.time()\n",
    "        func()\n",
    "        end = time.time()\n",
    "        print(f\"Execution took {end - start} seconds.\")\n",
    "    return wrapper\n",
    "\n",
    "@timer_decorator\n",
    "def long_task():\n",
    "    time.sleep(2)\n",
    "    print(\"Task finished!\")\n",
    "\n",
    "long_task()\n"
   ]
  },
  {
   "cell_type": "markdown",
   "id": "c05809dd",
   "metadata": {},
   "source": [
    "### A Decorator That Repeats a Function"
   ]
  },
  {
   "cell_type": "code",
   "execution_count": 4,
   "id": "48ed540f",
   "metadata": {},
   "outputs": [
    {
     "name": "stdout",
     "output_type": "stream",
     "text": [
      "Hi!\n",
      "Hi!\n",
      "Hi!\n"
     ]
    }
   ],
   "source": [
    "def repeat_decorator(func):\n",
    "    def wrapper():\n",
    "        for i in range(3):\n",
    "            func()\n",
    "    return wrapper\n",
    "\n",
    "@repeat_decorator\n",
    "def say_hi():\n",
    "    print(\"Hi!\")\n",
    "\n",
    "say_hi()"
   ]
  },
  {
   "cell_type": "markdown",
   "id": "35bb0bd2",
   "metadata": {},
   "source": [
    "### Logging Function Calls"
   ]
  },
  {
   "cell_type": "code",
   "execution_count": null,
   "id": "a2f1f47a",
   "metadata": {},
   "outputs": [],
   "source": [
    "def log_decorator(func):\n",
    "    def wrapper(*args, **kwargs):\n",
    "        print(f\"Calling {func.__name__}\")\n",
    "        return func(*args, **kwargs)\n",
    "    return wrapper\n",
    "\n",
    "@log_decorator\n",
    "def greet(name):\n",
    "    print(f\"Hello, {name}!\")\n",
    "\n",
    "greet(\"Alice\")"
   ]
  },
  {
   "cell_type": "markdown",
   "id": "0dad9e3f",
   "metadata": {},
   "source": [
    "### Authorization and Access Control"
   ]
  },
  {
   "cell_type": "code",
   "execution_count": null,
   "id": "4ebabbee",
   "metadata": {},
   "outputs": [],
   "source": [
    "def require_admin(func):\n",
    "    def wrapper(user):\n",
    "        if user != \"admin\":\n",
    "            print(\"Access denied.\")\n",
    "        else:\n",
    "            func(user)\n",
    "    return wrapper\n",
    "\n",
    "@require_admin\n",
    "def view_dashboard(user):\n",
    "    print(f\"Welcome, {user}!\")\n",
    "\n",
    "view_dashboard(\"user\")  \n",
    "view_dashboard(\"admin\") \n"
   ]
  },
  {
   "cell_type": "markdown",
   "id": "887fa046",
   "metadata": {},
   "source": [
    "### Caching Results\n",
    "\n",
    "Save results to avoid recomputing expensive operations."
   ]
  },
  {
   "cell_type": "code",
   "execution_count": null,
   "id": "a7ca860b",
   "metadata": {},
   "outputs": [],
   "source": [
    "cache = {}\n",
    "\n",
    "def memoize(func):\n",
    "    def wrapper(x):\n",
    "        if x in cache:\n",
    "            print(\"Returning cached result\")\n",
    "            return cache[x]\n",
    "        result = func(x)\n",
    "        cache[x] = result\n",
    "        return result\n",
    "    return wrapper\n",
    "\n",
    "@memoize\n",
    "def slow_square(x):\n",
    "    print(\"Computing square...\")\n",
    "    return x * x\n",
    "\n",
    "slow_square(4)\n",
    "slow_square(4)\n"
   ]
  },
  {
   "cell_type": "code",
   "execution_count": null,
   "id": "04aa8c8e",
   "metadata": {},
   "outputs": [],
   "source": [
    "\n",
    "slow_square(4)"
   ]
  },
  {
   "cell_type": "code",
   "execution_count": null,
   "id": "3999de55",
   "metadata": {},
   "outputs": [],
   "source": [
    "\n",
    "slow_square(5)"
   ]
  },
  {
   "cell_type": "markdown",
   "id": "bbad7780",
   "metadata": {},
   "source": [
    "### Validation of Arguments\n",
    "\n",
    "Ensure function arguments are valid."
   ]
  },
  {
   "cell_type": "code",
   "execution_count": null,
   "id": "83047470",
   "metadata": {},
   "outputs": [],
   "source": [
    "def positive_args(func):\n",
    "    def wrapper(x):\n",
    "        if x < 0:\n",
    "            raise ValueError(\"Argument must be positive!\")\n",
    "        return func(x)\n",
    "    return wrapper\n",
    "\n",
    "@positive_args\n",
    "def sqrt(x):\n",
    "    return x ** 0.5\n",
    "\n",
    "print(sqrt(9))  # Works\n",
    "#print(sqrt(-4))  # Raises ValueError\n"
   ]
  },
  {
   "cell_type": "markdown",
   "id": "0c05ff1a",
   "metadata": {},
   "source": [
    "### Pre/Post-Processing\n",
    "\n",
    "Like in web frameworks or APIs:\n",
    "\n",
    "   - Pre-processing: Check user authentication, validate data, set up logging.\n",
    "\n",
    "   - Post-processing: Format output, clean up resources, log metrics."
   ]
  },
  {
   "cell_type": "code",
   "execution_count": null,
   "id": "d2ce54c4",
   "metadata": {},
   "outputs": [],
   "source": []
  }
 ],
 "metadata": {
  "kernelspec": {
   "display_name": "Python 3 (ipykernel)",
   "language": "python",
   "name": "python3"
  },
  "language_info": {
   "codemirror_mode": {
    "name": "ipython",
    "version": 3
   },
   "file_extension": ".py",
   "mimetype": "text/x-python",
   "name": "python",
   "nbconvert_exporter": "python",
   "pygments_lexer": "ipython3",
   "version": "3.9.7"
  }
 },
 "nbformat": 4,
 "nbformat_minor": 5
}
