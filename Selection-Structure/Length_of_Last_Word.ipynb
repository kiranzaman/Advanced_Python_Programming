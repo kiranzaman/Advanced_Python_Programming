{
 "cells": [
  {
   "cell_type": "markdown",
   "id": "44e2c213",
   "metadata": {},
   "source": [
    "---   \n",
    "---   \n",
    "\n",
    "<h1 align=\"center\">ExD</h1>\n",
    "<h1 align=\"center\">Course: Advanced Python Programming Language</h1>\n",
    "\n",
    "\n",
    "---\n",
    "<h3><div align=\"right\">Instructor: Kiran Khursheed</div></h3>    "
   ]
  },
  {
   "cell_type": "markdown",
   "id": "d334c0c2",
   "metadata": {},
   "source": [
    "<h1 align=\"center\">Length of Last Word</h1>"
   ]
  },
  {
   "cell_type": "markdown",
   "id": "5171fc0b",
   "metadata": {},
   "source": [
    "### Given a string s consisting of words and spaces, return the length of the last word in the string. A word is a maximal consisting of non-space characters only."
   ]
  },
  {
   "cell_type": "raw",
   "id": "8d82d6b8",
   "metadata": {},
   "source": [
    "Example 1:\n",
    "Input: s = \"Hello World\"\n",
    "Output: 5\n",
    "Explanation: The last word is \"World\" with length 5.\n",
    "Example 2:\n",
    "Input: s = \"   fly me   to   the moon  \"\n",
    "Output: 4\n",
    "Explanation: The last word is \"moon\" with length 4.\n",
    "Example 3:\n",
    "Input: s = \"luffy is still joyboy\"\n",
    "Output: 6\n",
    "Explanation: The last word is \"joyboy\" with length 6.\n",
    "\n",
    "Constraints:\n",
    "•\t1 <= s.length <= 104\n",
    "•\ts consists of only English letters and spaces ' '.\n",
    "•\tThere will be at least one word in s.\n"
   ]
  },
  {
   "cell_type": "code",
   "execution_count": 24,
   "id": "0006f0f8",
   "metadata": {},
   "outputs": [
    {
     "name": "stdout",
     "output_type": "stream",
     "text": [
      "['learning', 'is', 'fun', 'with', 'kiran']\n",
      "<class 'list'>\n"
     ]
    }
   ],
   "source": [
    "s = 'learning is fun with kiran'\n",
    "w = s.strip().split()\n",
    "print(w)\n",
    "print(type(w))\n"
   ]
  },
  {
   "cell_type": "code",
   "execution_count": 25,
   "id": "9fd0608f",
   "metadata": {},
   "outputs": [
    {
     "name": "stdout",
     "output_type": "stream",
     "text": [
      "Please Enter the string: kiran 8888 \n",
      "Length of Last Word is  4\n"
     ]
    }
   ],
   "source": [
    "input_string = input(\"Please Enter the string: \")\n",
    "words = input_string.strip().split()\n",
    "print(\"Length of Last Word is \",len(words[-1]))"
   ]
  },
  {
   "cell_type": "code",
   "execution_count": 26,
   "id": "dc02385d",
   "metadata": {},
   "outputs": [
    {
     "name": "stdout",
     "output_type": "stream",
     "text": [
      "Please enter the string: kiran 888\n",
      "Error: String can only contain English letters and spaces.\n"
     ]
    }
   ],
   "source": [
    "sample_string = input(\"Please enter the string: \").strip()\n",
    "\n",
    "# Constraint 1: Check length\n",
    "if not (1 <= len(sample_string) <= 10000):\n",
    "    print(\"Error: String length must be between 1 and 10,000\")\n",
    "else:\n",
    "    if not all(char.isalpha() or char == ' ' for char in sample_string):\n",
    "        print(\"Error: String can only contain English letters and spaces.\")\n",
    "    else:\n",
    "        words_list = sample_string.split()\n",
    "        if len(words_list) == 0:\n",
    "            print(\"Error: The input must contain at least one word.\")\n",
    "        else:\n",
    "            print(\"Length of the last word is:\", len(words_list[-1]))"
   ]
  },
  {
   "cell_type": "code",
   "execution_count": null,
   "id": "9c651608",
   "metadata": {},
   "outputs": [],
   "source": []
  }
 ],
 "metadata": {
  "kernelspec": {
   "display_name": "Python 3 (ipykernel)",
   "language": "python",
   "name": "python3"
  },
  "language_info": {
   "codemirror_mode": {
    "name": "ipython",
    "version": 3
   },
   "file_extension": ".py",
   "mimetype": "text/x-python",
   "name": "python",
   "nbconvert_exporter": "python",
   "pygments_lexer": "ipython3",
   "version": "3.9.7"
  }
 },
 "nbformat": 4,
 "nbformat_minor": 5
}
